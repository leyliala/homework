{
  "nbformat": 4,
  "nbformat_minor": 0,
  "metadata": {
    "colab": {
      "name": "Untitled.ipynb",
      "provenance": [],
      "collapsed_sections": [],
      "authorship_tag": "ABX9TyPY+Wu+aQP8FkoTtWjcyRyV",
      "include_colab_link": true
    },
    "kernelspec": {
      "name": "python3",
      "display_name": "Python 3"
    },
    "language_info": {
      "name": "python"
    }
  },
  "cells": [
    {
      "cell_type": "markdown",
      "metadata": {
        "id": "view-in-github",
        "colab_type": "text"
      },
      "source": [
        "<a href=\"https://colab.research.google.com/github/leyliala/homework/blob/master/Untitled.ipynb\" target=\"_parent\"><img src=\"https://colab.research.google.com/assets/colab-badge.svg\" alt=\"Open In Colab\"/></a>"
      ]
    },
    {
      "cell_type": "code",
      "metadata": {
        "colab": {
          "base_uri": "https://localhost:8080/"
        },
        "id": "YEV_0T6qVFZN",
        "outputId": "41a1c1d9-a77f-4551-9f8e-fe3d74789351"
      },
      "source": [
        "person1={\"Name\":\"Albert\", \"Last Name\":\"Einstein\", \"Born\":\"14 March 1879\", \"Birth Place\":\"Germany\", \"Career\":\"Scientist\"}\n",
        "person2={\"Name\":\"Stephan\", \"Last Name\":\"Hawking\", \"Born\":\"8 January 1942\", \"Birth Place\":\"England\", \"Career\":\"Scientist\"}\n",
        "person3={\"Name\":\"Wolfgang Amadeus\", \"Last Name\":\"Mozart\", \"Born\":\"27 January 1756\", \"Birth Place\":\"Rome\", \"Career\":\"Musician\"}\n",
        "person4={\"Name\":\"Mehmet Akif\", \"Last Name\":\"Ersoy\", \"Born\":\"20 December 1873\", \"Birth Place\":\"Istanbul\", \"Career\":\"Poetrist\"}\n",
        "person5={\"Name\":\"Marie\", \"Last Name\":\"Curie\", \"Born\":\"4 July 1867\", \"Birth Place\":\"Poland\", \"Career\":\"Scientist\"}\n",
        "print(person1)\n",
        "print(person2)\n",
        "print(person3)\n",
        "print(person4)\n",
        "print(person5)"
      ],
      "execution_count": null,
      "outputs": [
        {
          "output_type": "stream",
          "text": [
            "{'Name': 'Albert', 'Last Name': 'Einstein', 'Born': '14 March 1879', 'Birth Place': 'Germany', 'Career': 'Scientist'}\n",
            "{'Name': 'Stephan', 'Last Name': 'Hawking', 'Born': '8 January 1942', 'Birth Place': 'England', 'Career': 'Scientist'}\n",
            "{'Name': 'Wolfgang Amadeus', 'Last Name': 'Mozart', 'Born': '27 January 1756', 'Birth Place': 'Rome', 'Career': 'Musician'}\n",
            "{'Name': 'Mehmet Akif', 'Last Name': 'Ersoy', 'Born': '20 December 1873', 'Birth Place': 'Istanbul', 'Career': 'Poetrist'}\n",
            "{'Name': 'Marie', 'Last Name': 'Curie', 'Born': '4 July 1867', 'Birth Place': 'Poland', 'Career': 'Scientist'}\n"
          ],
          "name": "stdout"
        }
      ]
    }
  ]
}